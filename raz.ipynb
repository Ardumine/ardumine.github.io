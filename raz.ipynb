{
 "cells": [
  {
   "cell_type": "code",
   "execution_count": 38,
   "metadata": {},
   "outputs": [],
   "source": [
    "from bs4 import BeautifulSoup\n",
    "import bs4\n",
    "import requests\n",
    "url = \"http://localhost:8000\"\n",
    "\n",
    "html = requests.get(url).content\n",
    "\n",
    "sopa = BeautifulSoup(html, \"html.parser\")"
   ]
  },
  {
   "cell_type": "code",
   "execution_count": 39,
   "metadata": {},
   "outputs": [
    {
     "data": {
      "text/plain": [
       "\"\\r\\n        INGRIDIENTS: · Flour: This homemade pancake recipe starts with\\r\\n        all-purpose flour. · Baking powder: Baking powder, a leavener, is the\\r\\n        secret to fluffy pancakes. · Sugar: Just a tablespoon of white sugar is\\r\\n        all you'll need for subtly sweet pancakes. · Salt: A pinch of salt will\\r\\n        enhance the overall flavor without making your pancakes taste salty. ·\\r\\n        Milk and butter: Milk and butter add moisture and richness to the\\r\\n        pancakes. · Egg: A whole egg lends even more moisture. Plus, it helps\\r\\n        bind the pancake batter together. 1. Sift the dry ingredients together.\\r\\n        2. Make a well, then add the wet ingredients. Stir to combine. 3. Scoop\\r\\n        the batter onto a hot griddle or pan. 4. Cook for two to three minutes,\\r\\n        then flip. 5. Continue cooking until brown on both sides.\\r\\n      \""
      ]
     },
     "execution_count": 39,
     "metadata": {},
     "output_type": "execute_result"
    }
   ],
   "source": [
    "#receita 1\n",
    "a :bs4.element.Tag = sopa.find_all(id = \"item1\")[0]\n",
    "a.contents[0]"
   ]
  },
  {
   "cell_type": "code",
   "execution_count": 40,
   "metadata": {},
   "outputs": [
    {
     "data": {
      "text/plain": [
       "'\\r\\n        2 cups white sugar 1 ¾ cups all-purpose flour ¾ cup unsweetened cocoa\\r\\n        powder 1 ½ teaspoons baking powder 1 ½ teaspoons baking soda 1 teaspoon\\r\\n        salt 2 eggs 1 cup milk ½ cup vegetable oil 2 teaspoons vanilla extract 1\\r\\n        cup boiling water Gather all ingredients. Preheat oven to 350 degrees F\\r\\n        (175 degrees C). Grease and flour two nine inch round pans. In a large\\r\\n        bowl, stir together the sugar, flour, cocoa, baking powder, baking soda\\r\\n        and salt. Add the eggs, milk, oil and vanilla, mix for 2 minutes on\\r\\n        medium speed of mixer. Stir in the boiling water last. Batter will be\\r\\n        thin. Pour evenly into the prepared pans. Bake 30 to 35 minutes in the\\r\\n        preheated oven, until the cake tests done with a toothpick. Cool in the\\r\\n        pans for 10 minutes, then remove to a wire rack to cool completely.\\r\\n      '"
      ]
     },
     "execution_count": 40,
     "metadata": {},
     "output_type": "execute_result"
    }
   ],
   "source": [
    "#receita 2\n",
    "a :bs4.element.Tag = sopa.find_all(id = \"item2\")[0]\n",
    "a.contents[0]"
   ]
  }
 ],
 "metadata": {
  "kernelspec": {
   "display_name": "Python 3",
   "language": "python",
   "name": "python3"
  },
  "language_info": {
   "codemirror_mode": {
    "name": "ipython",
    "version": 3
   },
   "file_extension": ".py",
   "mimetype": "text/x-python",
   "name": "python",
   "nbconvert_exporter": "python",
   "pygments_lexer": "ipython3",
   "version": "3.9.13"
  },
  "orig_nbformat": 4
 },
 "nbformat": 4,
 "nbformat_minor": 2
}
